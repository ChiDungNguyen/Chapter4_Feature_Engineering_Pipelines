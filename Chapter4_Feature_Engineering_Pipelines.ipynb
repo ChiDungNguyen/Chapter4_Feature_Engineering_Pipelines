{
 "cells": [
  {
   "cell_type": "markdown",
   "metadata": {},
   "source": [
    "# Chapter 4: \n",
    "# Cải thiện khả năng dự báo của mô hình bằng Feature Engineering\n",
    "\n",
    "Như đã đề cập trong chương 1, Feature Engineering (FE) được hiểu như là việc biến đổi - chuyển hóa dữ liệu nguyên bản (Original Feature) thành Feature mới sao cho khả năng dự báo và phân loại của mô hình ML tăng lên. FE có thể là kĩ thuật đơn giản chuyển hóa biến định tính (Categorical) về biến Binary 0 - 1 vì rằng hầu hết các mô hình ML được xây dựng trong Python không chấp nhận Feature là biến định tính. FE không chỉ là biến đổi - chuyển hóa các features ban đầu thành các features mới mà còn có thể là việc tìm ra một feature mới (bằng một sự kết hợp - biến đổi nào đó từ các features đã có) hoặc loại bỏ các biến số nhiễu (noise) để nâng cao khả năng phân loại - dựa báo của mô hình. \n",
    "\n",
    "Chương này hướng vào các nội dung sau: \n",
    "\n",
    "- Giới thiệu về FE cho các mô hình ML. Để minh họa thì kĩ thuật chuẩn hóa 0 - 1 được sử dụng với mô hình KNN. \n",
    "- Tinh chỉnh tham số kết hợp với FE và Pipelines. \n",
    "- So sánh chất lượng dự báo - phân loại của mô hình khi không và có sử dụng FE. \n",
    "\n",
    "# 4.1 Feature Engineering: Scaling 0 - 1\n",
    "\n",
    "Trong chương 1 chúng ta đã biết mô hình KNN là chưa đủ tốt để sử dụng theo các tiêu chí đánh giá như đã trình bày trong chương 3. Để nâng cao khả năng phân loại - dự báo của mô hình chúng ta có thể tìm tham số tối ưu thông qua quá trình tinh chỉnh tham số đã được trình bày trong chương 2. \n",
    "\n",
    "Tuy nhiên với FE chúng ta có thể cái thiện chất lượng dự báo - phân loại của mô hình một cách nhanh chóng. Để minh họa chúng ta trở lại với mô hình KNN với K = 1 và so sánh Accuracy trong hai tình huống: sử dụng và không sử dụng FE khi huấn luyện mô hình. Bằng kĩ thuật chuẩn hóa 0 - 1 đơn giản chúng ta có thể tăng Accuracy lên 6.42%. Trước hết thực hiện chuẩn bị dữ liệu: "
   ]
  },
  {
   "cell_type": "code",
   "execution_count": 1,
   "metadata": {},
   "outputs": [],
   "source": [
    "#========================================\n",
    "#  Chuẩn bị dữ liệu cho huấn luyện KNN\n",
    "#========================================\n",
    "\n",
    "import pandas as pd\n",
    "df_bank = pd.read_csv(\"C:/Users/Zbook/Desktop/DataMining/dmba/UniversalBank.csv\")\n",
    "my_df_binary = df_bank.drop([\"ZIP Code\", \"ID\"], axis=1)\n",
    "Y = my_df_binary[\"Personal Loan\"]\n",
    "X = my_df_binary.drop(\"Personal Loan\", 1)\n",
    "from sklearn.model_selection import train_test_split\n",
    "X_train, X_test, y_train, y_test = train_test_split(X, Y, test_size = 0.4, random_state = 29, stratify = Y)"
   ]
  },
  {
   "cell_type": "code",
   "execution_count": 2,
   "metadata": {},
   "outputs": [
    {
     "name": "stdout",
     "output_type": "stream",
     "text": [
      "Accuracy nếu sử dụng dữ liệu nguyên bản: 0.903\n"
     ]
    }
   ],
   "source": [
    "# Huấn luyện KNN với K = 1: \n",
    "from sklearn.neighbors import KNeighborsClassifier\n",
    "knn1 = KNeighborsClassifier(n_neighbors=1)\n",
    "knn1.fit(X_train, y_train)\n",
    "\n",
    "# Tính Accuracy và hiển thị kết quả: \n",
    "accuracy_noneScaled = knn1.score(X_test, y_test)\n",
    "print(\"Accuracy nếu sử dụng dữ liệu nguyên bản:\", accuracy_noneScaled)"
   ]
  },
  {
   "cell_type": "markdown",
   "metadata": {},
   "source": [
    "KNN là một thuật toán dựa vào khoảng cách và do vậy rất nhạy với thước đo được sử dụng cho Features. Kinh nghiệm được đo theo đơn vị là năm và nó là một con số khá bé (nằm đâu đó từ 0 đến 50 là cùng) so với thu nhập có đơn vị, ví dụ, là VND và con số thu nhập có thể từ vài ba triệu cho đến hàng trăm triệu. Do vậy chúng ta cần chuẩn hóa tất cả các thước đo này về *cùng một thước đo*. \n",
    "\n",
    "Bằng sử dụng chuẩn hóa 0 - 1 cho các features chúng ta có thể cải thiện đáng kể chất lượng của mô hình. Chú ý rằng khi huấn luyện thì chúng ta phải huấn luyện trên dữ liệu train đã được chuẩn hóa còn dự báo chúng ta phải thực hiện trên dữ liệu test. Scikit-Learn hỗ trợ nhiều kĩ thuật FE cho features chứ không chỉ kĩ thuật chuẩn hóa 0 - 1. Dưới đây là Python Codes thực hiện kĩ thuật chuẩn hóa này: "
   ]
  },
  {
   "cell_type": "code",
   "execution_count": 3,
   "metadata": {},
   "outputs": [],
   "source": [
    "# Load hàm MinMaxScaler() từ Sciki-Learn cho chuẩn hóa 0 - 1: \n",
    "from sklearn.preprocessing import MinMaxScaler\n",
    "\n",
    "# Kích hoạt hàm chuẩn hóa: \n",
    "scaler = MinMaxScaler().fit(X_train)\n",
    "\n",
    "# Chuẩn hóa 0 - 1 cho train data: \n",
    "X_train_scaled = scaler.transform(X_train)\n",
    "\n",
    "# Huấn luyện KNN trên train data đã được chuẩn hóa: \n",
    "knn_scaled = knn1.fit(X_train_scaled, y_train)"
   ]
  },
  {
   "cell_type": "markdown",
   "metadata": {},
   "source": [
    "Để thực hiện dự báo chúng ta sử dụng mô hình đối với dữ liệu test data chuẩn hóa chứ không phải nguyên bản: "
   ]
  },
  {
   "cell_type": "code",
   "execution_count": 4,
   "metadata": {},
   "outputs": [
    {
     "name": "stdout",
     "output_type": "stream",
     "text": [
      "Accuracy nếu sử dụng dữ liệu chuẩn hóa: 0.961\n"
     ]
    }
   ],
   "source": [
    "# Chuẩn hóa test data: \n",
    "X_test_scaled = scaler.transform(X_test)\n",
    "\n",
    "# Thực hiện dự báo trên test data đã chuẩn hóa: \n",
    "accuracy_scaled = knn_scaled.score(X_test_scaled, y_test)\n",
    "\n",
    "# Accuracy của mô hình KNN: \n",
    "print(\"Accuracy nếu sử dụng dữ liệu chuẩn hóa:\", accuracy_scaled)"
   ]
  },
  {
   "cell_type": "markdown",
   "metadata": {},
   "source": [
    "Như vậy chỉ với kĩ thuật FE đơn giản là chuẩn hóa 0 - 1 thì chúng ta đã có thể cải thiện chất lượng dự báo của mô hình lên khoảng 6.42%: "
   ]
  },
  {
   "cell_type": "code",
   "execution_count": 5,
   "metadata": {},
   "outputs": [
    {
     "data": {
      "text/plain": [
       "6.423034330011057"
      ]
     },
     "execution_count": 5,
     "metadata": {},
     "output_type": "execute_result"
    }
   ],
   "source": [
    "100*(accuracy_scaled / accuracy_noneScaled - 1)"
   ]
  },
  {
   "cell_type": "markdown",
   "metadata": {},
   "source": [
    "Như vậy với chỉ cùng một giá trị của tham số K chúng ta có thể nâng cao chất lượng phân loại - dự báo của mô hình lên đáng kể. Nhưng trong thực tế, FE chỉ mới là một phần của quá trình tìm kiếm - xây dựng một mô hình ML đủ tốt/tốt hơn nữa. Chúng ta phải kết hợp FE với quá trình tinh chỉnh tham số cho mô hình như mục 4.2 dưới đây. "
   ]
  },
  {
   "cell_type": "markdown",
   "metadata": {},
   "source": [
    "# 4.2 Feature Engineering kết hợp Grid Search \n",
    "\n",
    "Tìm kiếm tham số tối ưu thông qua quá trình tinh chỉnh tham số mô hình là bước quan trọng của việc xây dựng mô hình ML trước khi nghĩ đến việc triển khai và ứng dụng nó. Chúng ta có thể kết hợp FE và tinh chỉnh tham số cho mô hình bằng Grid Search. Dưới đây là Python Codes cho tinh chỉnh tham số của mô hình SVM kết hợp với FE: "
   ]
  },
  {
   "cell_type": "code",
   "execution_count": 7,
   "metadata": {},
   "outputs": [
    {
     "name": "stdout",
     "output_type": "stream",
     "text": [
      "Accuracy trung bình cao nhất từ Cross-Validation: 0.9763333333333334\n",
      "Accuracy trên test data (đã chuẩn hóa):  0.984\n"
     ]
    }
   ],
   "source": [
    "# Load hàm SVC + GridSearchCV từ thư viện Scikit-Learn: \n",
    "from sklearn.svm import SVC\n",
    "from sklearn.model_selection import GridSearchCV\n",
    "\n",
    "# Thiết lập Grid Search cho tinh chỉnh: \n",
    "param_grid = {\"C\": [0.001, 0.01, 0.1, 1, 10, 100], \"gamma\": [0.001, 0.01, 0.1, 1, 10, 100]}\n",
    "\n",
    "# Tinh chỉnh mô hình với 5 Fold Cross-Validation và huấn luyện luôn trên train đã được chuẩn hóa 0 - 1: \n",
    "grid = GridSearchCV(SVC(), param_grid, cv=5, scoring=\"accuracy\")\n",
    "grid.fit(X_train_scaled, y_train)\n",
    "\n",
    "# Accuracy trung bình cao nhất (cho 5 lần chạy mẫu) trên train data chuẩn hóa: \n",
    "best_Accuracy_fromCrossValidation = grid.best_score_\n",
    "\n",
    "# Accuracy trên test data đã được chuẩn hóa: \n",
    "Accuracy_onTestData = grid.score(X_test_scaled, y_test)\n",
    "\n",
    "# Hiển thị các kết quả: \n",
    "print(\"Accuracy trung bình cao nhất từ Cross-Validation:\", best_Accuracy_fromCrossValidation)\n",
    "print(\"Accuracy trên test data (đã chuẩn hóa): \", Accuracy_onTestData)"
   ]
  },
  {
   "cell_type": "markdown",
   "metadata": {},
   "source": [
    "Chúng ta có thể chỉ ra tham số tối ưu: "
   ]
  },
  {
   "cell_type": "code",
   "execution_count": 8,
   "metadata": {},
   "outputs": [
    {
     "name": "stdout",
     "output_type": "stream",
     "text": [
      "Parameters tối ưu:  {'C': 100, 'gamma': 0.1}\n"
     ]
    }
   ],
   "source": [
    "print(\"Parameters tối ưu:\", grid.best_params_)"
   ]
  },
  {
   "cell_type": "markdown",
   "metadata": {},
   "source": [
    "Đương nhiên kết quả Accuracy = 0.984 có thể tìm lại bằng cách huyến luyện trực tiếp KNN với cặp tham số này rồi tính toán lại Accuracy cho test data chuẩn hóa: "
   ]
  },
  {
   "cell_type": "code",
   "execution_count": 9,
   "metadata": {},
   "outputs": [
    {
     "name": "stdout",
     "output_type": "stream",
     "text": [
      "Accuracy trên test data (đã chuẩn hóa):  0.984\n"
     ]
    }
   ],
   "source": [
    "# Huấn luyện lại SVM với cặp tham số tối ưu gamma + C: \n",
    "svm_bestParameters = SVC(**grid.best_params_)\n",
    "\n",
    "# Huấn luyện SVM và tính Accuracy: \n",
    "acc_bestParameters = svm_bestParameters.fit(X_train_scaled, y_train).score(X_test_scaled, y_test)\n",
    "\n",
    "# Hiển thik kết quả: \n",
    "print(\"Accuracy trên test data (đã chuẩn hóa): \", acc_bestParameters)"
   ]
  },
  {
   "cell_type": "markdown",
   "metadata": {},
   "source": [
    "# 4.3 FE, Grid Search và Pipelines\n",
    "\n",
    "Trong thực tế thì chúng ta có thể thực hiện một chuỗi các kĩ thuật biến đổi - chuyển hóa features nguyên bản thành features mới chứ không chỉ thực hiện chuẩn hóa 0-1 như đã thấy. Mặt khác, như đã thấy để xây dựng một mô hình ML với chuẩn hóa 0-1 chúng ta cần có thể phải chuẩn bị trước train và test data đã được chuẩn hóa trước khi xây dựng và đánh giá mô hình. Rất may mắn là Scikit-Learn có thể hỗ trợ cho khâu FE, huấn luyện và đánh giá mô hình theo một cách thức trình bày ngắn gọn và tiện lợi hơn rất nhiều bằng một \"thủ tục\" gọi là *Pipelines* (tôi chưa biết dịch là gì dù rằng nó trùng tên với bản hit Pipeline của ban nhạc The Ventures và tôi đã nghe từ lâu). Lợi ích của Pipelines là: \n",
    "\n",
    "- Gói gọn quá trình từ FE, tinh chỉnh, huấn luyện và đánh giá bằng một quy trình kín từ A-Z. \n",
    "- Trình bày ngắn gọn, tiện lợi cho việc huấn luyện, so sánh - lựa chọn nhiều mô hình ML khác nhau. \n",
    "\n",
    "Để minh họa thủ tục Pipelines chúng ta trở lại với KNN khi K = 1: "
   ]
  },
  {
   "cell_type": "code",
   "execution_count": 10,
   "metadata": {},
   "outputs": [
    {
     "name": "stdout",
     "output_type": "stream",
     "text": [
      "Accuracy với FE là chuẩn hóa 0-1 cho test data: 0.961\n"
     ]
    }
   ],
   "source": [
    "# Load hàm Pipeline: \n",
    "from sklearn.pipeline import Pipeline\n",
    "\n",
    "# Thiết lập thông số cho huấn luyện và chuẩn hóa 0 - 1: \n",
    "pipe_knn = Pipeline([(\"scaler\", MinMaxScaler()), \n",
    "                     (\"knn\", KNeighborsClassifier(n_neighbors=1))])\n",
    "\n",
    "# Huấn luyện KNN: \n",
    "pipe_knn.fit(X_train, y_train)\n",
    "\n",
    "# Tính Accuracy: \n",
    "acc = pipe_knn.score(X_test, y_test)\n",
    "\n",
    "# In Accuracy: \n",
    "print(\"Accuracy với FE là chuẩn hóa 0-1 cho test data:\", acc)"
   ]
  },
  {
   "cell_type": "markdown",
   "metadata": {},
   "source": [
    "Sử dụng Pipelines cho FE + tinh chỉnh tham số theo cách tiếp cận Grid Search được thực hiện như Python Codes dưới đây. Để minh họa thì hai mô hình ML được chọn là KNN và SVM:  "
   ]
  },
  {
   "cell_type": "code",
   "execution_count": 11,
   "metadata": {},
   "outputs": [
    {
     "name": "stdout",
     "output_type": "stream",
     "text": [
      "Accuracy cao nhất từ Cross-Validation: 0.953\n",
      "Accuracy cho Test Data:  0.961\n",
      "Parameters tốt nhất:  {'KNN__n_neighbors': 1}\n"
     ]
    }
   ],
   "source": [
    "#==============================================\n",
    "# Pipelines cho FE + tinh chỉnh tham số, KNN\n",
    "#==============================================\n",
    "\n",
    "# Thiết lập thông số cho huấn luyện và chuẩn hóa 0 - 1: \n",
    "pipe_knn = Pipeline([(\"scaler\", MinMaxScaler()), (\"KNN\", KNeighborsClassifier())])\n",
    "\n",
    "# Định nghĩa các ứng viên tiềm năng cho tham số: \n",
    "param_grid_knn = {\"KNN__n_neighbors\": [1, 3, 5, 7, 9, 11, 13, 15, 17, 19, 21, 23, 25, 27, 29, 31]}\n",
    "\n",
    "# Thiết lập môi trường tinh chỉnh: \n",
    "grid_search_knn = GridSearchCV(pipe_knn, param_grid_knn, cv=5)\n",
    "grid_search_knn.fit(X_train, y_train)\n",
    "print(\"Accuracy cao nhất từ Cross-Validation:\", grid_search_knn.best_score_)\n",
    "print(\"Accuracy cho Test Data: \", grid_search_knn.score(X_test, y_test))\n",
    "print(\"Parameters tốt nhất: \", grid_search_knn.best_params_)"
   ]
  },
  {
   "cell_type": "markdown",
   "metadata": {},
   "source": [
    "Một lần nữa giá trị Accuracy = 0.961 có thể được tính toán một cách trực tiếp như sau: "
   ]
  },
  {
   "cell_type": "code",
   "execution_count": 14,
   "metadata": {},
   "outputs": [
    {
     "name": "stdout",
     "output_type": "stream",
     "text": [
      "Accuracy tương ứng với tham số tối ưu, KNN: 0.961\n"
     ]
    }
   ],
   "source": [
    "# Huấn luyện lại KNN với tham số tối ưu tìm được: \n",
    "best_knn = KNeighborsClassifier(n_neighbors=1)\n",
    "\n",
    "# Huấn luyện và tính Accuracy: \n",
    "acc_best_knn = best_knn.fit(X_train_scaled, y_train).score(X_test_scaled, y_test)\n",
    "\n",
    "# In giá trị Accuracy: \n",
    "print(\"Accuracy tương ứng với tham số tối ưu, KNN:\", acc_best_knn)"
   ]
  },
  {
   "cell_type": "markdown",
   "metadata": {},
   "source": [
    "Tương tự là sử dụng thủ tục Pipelines cho SVM - một mô hình có tham số tinh chỉnh là gamma và C: "
   ]
  },
  {
   "cell_type": "code",
   "execution_count": 15,
   "metadata": {},
   "outputs": [
    {
     "name": "stdout",
     "output_type": "stream",
     "text": [
      "Accuracy cao nhất từ Cross-Validation: 0.9763333333333334\n",
      "Accuracy cho Test Data:  0.984\n",
      "Parameters tốt nhất:  {'SVM__C': 100, 'SVM__gamma': 0.1}\n"
     ]
    }
   ],
   "source": [
    "#==============================================\n",
    "# Pipelines cho FE + tinh chỉnh tham số, SVM\n",
    "#==============================================\n",
    "\n",
    "# Chỉ thị cụ thể kĩ thuật FE và các ứng viên tiềm năng cho tham số: \n",
    "pipe_svm = Pipeline([(\"scaler\", MinMaxScaler()), (\"SVM\", SVC())])\n",
    "param_grid_svm = {\"SVM__C\": [10, 100], \"SVM__gamma\": [0.01, 0.1]}\n",
    "\n",
    "# Load GridSearchCV: \n",
    "# from sklearn.model_selection import GridSearchCV\n",
    "\n",
    "# Tinh chỉnh (tìm tham số tối ưu) và huấn luyện: \n",
    "grid_search_svm = GridSearchCV(pipe_svm, param_grid_svm, cv=5)\n",
    "grid_search_svm.fit(X_train, y_train)\n",
    "\n",
    "# Kết quả Accuracy trên test data và một số kết quả khác: \n",
    "print(\"Accuracy cao nhất từ Cross-Validation:\", grid_search_svm.best_score_)\n",
    "print(\"Accuracy cho Test Data: \", grid_search_svm.score(X_test, y_test))\n",
    "print(\"Parameters tốt nhất: \", grid_search_svm.best_params_)"
   ]
  },
  {
   "cell_type": "markdown",
   "metadata": {},
   "source": [
    "# 4.4 Multi Transformation và thứ tự thực hiện\n",
    "\n",
    "Chúng ta có thể thực hiện một chuỗi các kĩ thuật biến đổi - chuyển hóa features nguyên bản thành features mới chứ không chỉ thực hiện chuẩn hóa 0-1 như đã thấy. Chẳng hạn chúng ta có thể thực hiện chuẩn hóa 0-1 sau đó giữ lại 8 biến số mới từ phân tích thành phần chính PCA (Principal Component Analysis) làm features mới cho mô hình ML như sau: "
   ]
  },
  {
   "cell_type": "code",
   "execution_count": 16,
   "metadata": {},
   "outputs": [],
   "source": [
    "# Load hàm PCA(): \n",
    "from sklearn.decomposition import PCA\n",
    "\n",
    "# Tạo Pipelines thực hiện chuỗi chuyển hóa theo thứ tự chuẩn hóa 0-1 trước rồi đến PCA: \n",
    "pipe_scaled_pca_knn1 = Pipeline([(\"scaler\", MinMaxScaler()), \n",
    "                                 (\"pca\", PCA(n_components=8)), \n",
    "                                 (\"knn\", KNeighborsClassifier(n_neighbors=1))])"
   ]
  },
  {
   "cell_type": "markdown",
   "metadata": {},
   "source": [
    "Thực hiện huấn luyện và tính Accuracy: "
   ]
  },
  {
   "cell_type": "code",
   "execution_count": 17,
   "metadata": {},
   "outputs": [
    {
     "name": "stdout",
     "output_type": "stream",
     "text": [
      "Accuracy với FE là chuẩn hóa 0-1 cho test data: 0.9585\n"
     ]
    }
   ],
   "source": [
    "# Huấn luyện KNN: \n",
    "pipe_scaled_pca_knn1.fit(X_train, y_train)\n",
    "\n",
    "# Tính Accuracy: \n",
    "acc = pipe_scaled_pca_knn1.score(X_test, y_test)\n",
    "\n",
    "# In Accuracy: \n",
    "print(\"Accuracy với FE là chuẩn hóa 0-1 cho test data:\", acc)"
   ]
  },
  {
   "cell_type": "markdown",
   "metadata": {},
   "source": [
    "Cùng với K = 1 nhưng có thêm giữ lại 8 biến số sau khi thực hiện PCA thì Accuracy tăng được thêm nữa. Cần lưu ý rằng Accuracy =  0.651 là kết quả trên một mẫu và do vậy chưa thể tổng quát hóa rằng *thực hiện thêm PCA thì khả năng dự báo của KNN tăng*. Chúng ta có thể sử dụng Grid Search với Cross-Validation để trả lời câu hỏi này như sau: "
   ]
  },
  {
   "cell_type": "code",
   "execution_count": 18,
   "metadata": {},
   "outputs": [
    {
     "name": "stdout",
     "output_type": "stream",
     "text": [
      "Accuracy cao nhất từ Cross-Validation: 0.9543333333333334\n",
      "Accuracy cho Test Data:  0.964\n",
      "Parameters tốt nhất:  {'knn__n_neighbors': 3}\n"
     ]
    }
   ],
   "source": [
    "# Tạo pipelines thực hiện một chuỗi biến đổi features và tinh chỉnh bằng Grid Search:     \n",
    "pipe_scaled_pca = Pipeline([(\"scaler\", MinMaxScaler()), \n",
    "                            (\"pca\", PCA(n_components=8)), \n",
    "                            (\"knn\", KNeighborsClassifier())])    \n",
    "\n",
    "\n",
    "param_grid_new = {\"knn__n_neighbors\": [1, 3, 5, 7, 9, 11, 13, 15, 17, 19, 21, 23, 25, 27, 29, 31]}\n",
    "\n",
    "# Thiết lập môi trường tinh chỉnh: \n",
    "grid_search_knn_new = GridSearchCV(pipe_scaled_pca, param_grid_new, cv=5)\n",
    "\n",
    "# Huấn luyện \n",
    "grid_search_knn_new.fit(X_train, y_train)\n",
    "\n",
    "# Hiển thị tham số tối ưu và Accuracy tương ứng: \n",
    "print(\"Accuracy cao nhất từ Cross-Validation:\", grid_search_knn_new.best_score_)\n",
    "print(\"Accuracy cho Test Data: \", grid_search_knn_new.score(X_test, y_test))\n",
    "print(\"Parameters tốt nhất: \", grid_search_knn_new.best_params_)"
   ]
  },
  {
   "cell_type": "markdown",
   "metadata": {},
   "source": [
    "Như vậy khi sử dụng chỉ 8 biến từ quá trình phân tích tành phần chính thì Accuracy gần như không thay đổi tuy nhiên tham số tối ưu K lúc này là 3. \n",
    "\n",
    "Cần chú ý rằng thứ tự của chuỗi chuyển hóa - biến đổi có ảnh hưởng đến chất lượng phân loại - dự báo và có thể là tham số tối ưng của mô hình. Dưới đây chúng ta sẽ thực hiện quá trình FE nhưng PCA trước, chuẩn hóa 0 - 1 sau: "
   ]
  },
  {
   "cell_type": "code",
   "execution_count": 19,
   "metadata": {},
   "outputs": [
    {
     "name": "stdout",
     "output_type": "stream",
     "text": [
      "Accuracy cao nhất từ Cross-Validation: 0.9576666666666667\n",
      "Accuracy cho Test Data:  0.967\n",
      "Parameters tốt nhất:  {'knn__n_neighbors': 1}\n"
     ]
    }
   ],
   "source": [
    "# Tạo Pipelines thực hiện FE: \n",
    "pipe_pca_scaled = Pipeline([(\"pca\", PCA(n_components=8)), \n",
    "                            (\"scaler\", MinMaxScaler()), \n",
    "                            (\"knn\", KNeighborsClassifier())])    \n",
    "\n",
    "\n",
    "# Thiết lập môi trường tinh chỉnh: \n",
    "grid_search_knn2 = GridSearchCV(pipe_pca_scaled, param_grid_new, cv=10)\n",
    "\n",
    "# Huấn luyện KNN: \n",
    "grid_search_knn2.fit(X_train, y_train)\n",
    "\n",
    "# Hiển thị tham số tối ưu và Accuracy tương ứng: \n",
    "\n",
    "print(\"Accuracy cao nhất từ Cross-Validation:\", grid_search_knn2.best_score_)\n",
    "print(\"Accuracy cho Test Data: \", grid_search_knn2.score(X_test, y_test))\n",
    "print(\"Parameters tốt nhất: \", grid_search_knn2.best_params_)"
   ]
  },
  {
   "cell_type": "markdown",
   "metadata": {},
   "source": [
    "Thực hiện FE theo thứ tự này thì Accuracy tăng lên 0.967 và tham số tối ưu K lúc này là 1 chứ không phải 3.  "
   ]
  },
  {
   "cell_type": "markdown",
   "metadata": {},
   "source": [
    "# 4.5 Feature Engineering: Feature Importance\n",
    "\n",
    "Ngoài kĩ thuật chuẩn hóa 0-1 như trên FE còn một kĩ thuật khác là loại biến dựa trên tầm quan trọng của biến số (Feature Importance, FI). FI - như cái tên gọi của nó ngụ ý - là thước đo đánh giá sự ảnh hưởng và vai trò của biến số đối với khả năng phân biệt - phân loại của mô hình. \n",
    "\n",
    "Với mỗi một mô hình ML khác nhau thì cùng một biến, FI có thể là khác nhau giữa các mô hình. Do vậy cách thức loại biến dựa trên FI thường dựa vào FI trung bình của, ví dụ, 4 thuật toán khác nhau. Dựa trên giá trị FI trung bình này chúng ta sẽ thực hiện loại biến theo một ngưỡng nào đó. \n",
    "\n",
    "Để minh họa kĩ thuật FE này chúng ta xét bộ dữ liệu **GermanCredit** của cuốn sách. Trước hết chúng ta chạy đồng thời 10 mô hình ML với đầy đủ các features đã được chuẩn hóa 0-1: "
   ]
  },
  {
   "cell_type": "code",
   "execution_count": 36,
   "metadata": {},
   "outputs": [],
   "source": [
    "# Đọc dữ liệu: \n",
    "df_bank = pd.read_csv(\"C:/Users/Zbook/Desktop/DataMining/dmba/GermanCredit.csv\")\n",
    "df_bank['RESPONSE'] = df_bank['RESPONSE'].map({1: 0, 0: 1})\n",
    "\n",
    "# Bỏ biến không cần thiết: \n",
    "my_df_binary = df_bank.drop([\"OBS#\"], axis=1) \n",
    "\n",
    "# Tách ra features và target: \n",
    "Y = my_df_binary[\"RESPONSE\"]\n",
    "X = my_df_binary.drop(\"RESPONSE\", 1)\n",
    "\n",
    "# Phân chia dữ liệu theo tỉ lệ 80 - 20: \n",
    "from sklearn.model_selection import train_test_split\n",
    "X_train, X_test, y_train, y_test = train_test_split(X, Y, test_size = 0.2, \n",
    "                                                    random_state = 29, stratify = Y)"
   ]
  },
  {
   "cell_type": "code",
   "execution_count": 37,
   "metadata": {},
   "outputs": [],
   "source": [
    "# Thực hiện chuẩn hóa 0-1: \n",
    "scaler = MinMaxScaler().fit(X_train)\n",
    "X_train = scaler.transform(X_train)  # Cho train Data. \n",
    "X_test = scaler.transform(X_test) # Cho Test Data. "
   ]
  },
  {
   "cell_type": "markdown",
   "metadata": {},
   "source": [
    "Huấn luyện đồng thời 10 mô hình ML (Cross-Validation) với 5 folds và tính trung bình ROC/AUC tương ứng với các mô hình: "
   ]
  },
  {
   "cell_type": "code",
   "execution_count": 39,
   "metadata": {},
   "outputs": [
    {
     "name": "stderr",
     "output_type": "stream",
     "text": [
      "C:\\Users\\Zbook\\Anaconda3\\lib\\site-packages\\sklearn\\ensemble\\forest.py:245: FutureWarning: The default value of n_estimators will change from 10 in version 0.20 to 100 in 0.22.\n",
      "  \"10 in version 0.20 to 100 in 0.22.\", FutureWarning)\n",
      "C:\\Users\\Zbook\\Anaconda3\\lib\\site-packages\\sklearn\\linear_model\\logistic.py:432: FutureWarning: Default solver will be changed to 'lbfgs' in 0.22. Specify a solver to silence this warning.\n",
      "  FutureWarning)\n",
      "C:\\Users\\Zbook\\Anaconda3\\lib\\site-packages\\sklearn\\linear_model\\logistic.py:432: FutureWarning: Default solver will be changed to 'lbfgs' in 0.22. Specify a solver to silence this warning.\n",
      "  FutureWarning)\n",
      "C:\\Users\\Zbook\\Anaconda3\\lib\\site-packages\\sklearn\\linear_model\\logistic.py:432: FutureWarning: Default solver will be changed to 'lbfgs' in 0.22. Specify a solver to silence this warning.\n",
      "  FutureWarning)\n",
      "C:\\Users\\Zbook\\Anaconda3\\lib\\site-packages\\sklearn\\linear_model\\logistic.py:432: FutureWarning: Default solver will be changed to 'lbfgs' in 0.22. Specify a solver to silence this warning.\n",
      "  FutureWarning)\n",
      "C:\\Users\\Zbook\\Anaconda3\\lib\\site-packages\\sklearn\\linear_model\\logistic.py:432: FutureWarning: Default solver will be changed to 'lbfgs' in 0.22. Specify a solver to silence this warning.\n",
      "  FutureWarning)\n",
      "C:\\Users\\Zbook\\Anaconda3\\lib\\site-packages\\sklearn\\linear_model\\logistic.py:432: FutureWarning: Default solver will be changed to 'lbfgs' in 0.22. Specify a solver to silence this warning.\n",
      "  FutureWarning)\n",
      "C:\\Users\\Zbook\\Anaconda3\\lib\\site-packages\\sklearn\\svm\\base.py:193: FutureWarning: The default value of gamma will change from 'auto' to 'scale' in version 0.22 to account better for unscaled features. Set gamma explicitly to 'auto' or 'scale' to avoid this warning.\n",
      "  \"avoid this warning.\", FutureWarning)\n",
      "C:\\Users\\Zbook\\Anaconda3\\lib\\site-packages\\sklearn\\svm\\base.py:193: FutureWarning: The default value of gamma will change from 'auto' to 'scale' in version 0.22 to account better for unscaled features. Set gamma explicitly to 'auto' or 'scale' to avoid this warning.\n",
      "  \"avoid this warning.\", FutureWarning)\n",
      "C:\\Users\\Zbook\\Anaconda3\\lib\\site-packages\\sklearn\\svm\\base.py:193: FutureWarning: The default value of gamma will change from 'auto' to 'scale' in version 0.22 to account better for unscaled features. Set gamma explicitly to 'auto' or 'scale' to avoid this warning.\n",
      "  \"avoid this warning.\", FutureWarning)\n",
      "C:\\Users\\Zbook\\Anaconda3\\lib\\site-packages\\sklearn\\svm\\base.py:193: FutureWarning: The default value of gamma will change from 'auto' to 'scale' in version 0.22 to account better for unscaled features. Set gamma explicitly to 'auto' or 'scale' to avoid this warning.\n",
      "  \"avoid this warning.\", FutureWarning)\n",
      "C:\\Users\\Zbook\\Anaconda3\\lib\\site-packages\\sklearn\\svm\\base.py:193: FutureWarning: The default value of gamma will change from 'auto' to 'scale' in version 0.22 to account better for unscaled features. Set gamma explicitly to 'auto' or 'scale' to avoid this warning.\n",
      "  \"avoid this warning.\", FutureWarning)\n",
      "C:\\Users\\Zbook\\Anaconda3\\lib\\site-packages\\sklearn\\svm\\base.py:193: FutureWarning: The default value of gamma will change from 'auto' to 'scale' in version 0.22 to account better for unscaled features. Set gamma explicitly to 'auto' or 'scale' to avoid this warning.\n",
      "  \"avoid this warning.\", FutureWarning)\n",
      "C:\\Users\\Zbook\\Anaconda3\\lib\\site-packages\\sklearn\\ensemble\\forest.py:245: FutureWarning: The default value of n_estimators will change from 10 in version 0.20 to 100 in 0.22.\n",
      "  \"10 in version 0.20 to 100 in 0.22.\", FutureWarning)\n"
     ]
    }
   ],
   "source": [
    "# Load thêm 8 classifiers từ Scikit-learn: \n",
    "from sklearn.linear_model import LogisticRegression\n",
    "from sklearn.ensemble import RandomForestClassifier\n",
    "from sklearn.ensemble import GradientBoostingClassifier\n",
    "from sklearn.ensemble import ExtraTreesClassifier\n",
    "from sklearn.ensemble import AdaBoostClassifier\n",
    "from sklearn.gaussian_process import GaussianProcessClassifier\n",
    "from sklearn.naive_bayes import GaussianNB\n",
    "from sklearn.ensemble import BaggingClassifier\n",
    "\n",
    "# Kích hoạt 10 mô hình ML: \n",
    "ran = RandomForestClassifier(random_state=1)\n",
    "knn = KNeighborsClassifier()\n",
    "log = LogisticRegression()\n",
    "gbc = GradientBoostingClassifier()\n",
    "svc = SVC(probability=True)\n",
    "ext = ExtraTreesClassifier()\n",
    "ada = AdaBoostClassifier()\n",
    "gnb = GaussianNB()\n",
    "gpc = GaussianProcessClassifier()\n",
    "bag = BaggingClassifier()\n",
    "\n",
    "# List các mô hình ML: \n",
    "models = [ran, knn, log,  gbc, svc, ext, ada, gnb, gpc, bag]   \n",
    "\n",
    "# List trống lưu trung bình ROC/AUC của 5 lần thử nghiệm: \n",
    "scores = []\n",
    "\n",
    "# Huấn luyện 10 mô hình ML và tính trung bình AUC: \n",
    "from sklearn.model_selection import cross_val_score\n",
    "\n",
    "for mod in models:\n",
    "    mod.fit(X_train, y_train)\n",
    "    acc = cross_val_score(mod, X_train, y_train, scoring = \"roc_auc\", cv = 5, verbose=False)\n",
    "    scores.append(acc.mean())"
   ]
  },
  {
   "cell_type": "markdown",
   "metadata": {},
   "source": [
    "Sắp xếp theo chiều giảm dần của ROC/AUC: "
   ]
  },
  {
   "cell_type": "code",
   "execution_count": 56,
   "metadata": {},
   "outputs": [
    {
     "data": {
      "text/html": [
       "<div>\n",
       "<style scoped>\n",
       "    .dataframe tbody tr th:only-of-type {\n",
       "        vertical-align: middle;\n",
       "    }\n",
       "\n",
       "    .dataframe tbody tr th {\n",
       "        vertical-align: top;\n",
       "    }\n",
       "\n",
       "    .dataframe thead th {\n",
       "        text-align: right;\n",
       "    }\n",
       "</style>\n",
       "<table border=\"1\" class=\"dataframe\">\n",
       "  <thead>\n",
       "    <tr style=\"text-align: right;\">\n",
       "      <th></th>\n",
       "      <th>Model</th>\n",
       "      <th>AUC</th>\n",
       "    </tr>\n",
       "  </thead>\n",
       "  <tbody>\n",
       "    <tr>\n",
       "      <th>0</th>\n",
       "      <td>Logistic Regression</td>\n",
       "      <td>0.797433</td>\n",
       "    </tr>\n",
       "    <tr>\n",
       "      <th>1</th>\n",
       "      <td>Gradient Boosting</td>\n",
       "      <td>0.784710</td>\n",
       "    </tr>\n",
       "    <tr>\n",
       "      <th>2</th>\n",
       "      <td>SVC</td>\n",
       "      <td>0.784487</td>\n",
       "    </tr>\n",
       "    <tr>\n",
       "      <th>3</th>\n",
       "      <td>Gaussian Process</td>\n",
       "      <td>0.769122</td>\n",
       "    </tr>\n",
       "    <tr>\n",
       "      <th>4</th>\n",
       "      <td>AdaBoost</td>\n",
       "      <td>0.753441</td>\n",
       "    </tr>\n",
       "    <tr>\n",
       "      <th>5</th>\n",
       "      <td>Gaussian Naive Bayes</td>\n",
       "      <td>0.750335</td>\n",
       "    </tr>\n",
       "    <tr>\n",
       "      <th>6</th>\n",
       "      <td>Random Forest</td>\n",
       "      <td>0.742987</td>\n",
       "    </tr>\n",
       "    <tr>\n",
       "      <th>7</th>\n",
       "      <td>Bagging Classifier</td>\n",
       "      <td>0.736886</td>\n",
       "    </tr>\n",
       "    <tr>\n",
       "      <th>8</th>\n",
       "      <td>Extra Trees</td>\n",
       "      <td>0.729204</td>\n",
       "    </tr>\n",
       "    <tr>\n",
       "      <th>9</th>\n",
       "      <td>K Nearest Neighbour</td>\n",
       "      <td>0.683017</td>\n",
       "    </tr>\n",
       "  </tbody>\n",
       "</table>\n",
       "</div>"
      ],
      "text/plain": [
       "                  Model       AUC\n",
       "0   Logistic Regression  0.797433\n",
       "1     Gradient Boosting  0.784710\n",
       "2                   SVC  0.784487\n",
       "3      Gaussian Process  0.769122\n",
       "4              AdaBoost  0.753441\n",
       "5  Gaussian Naive Bayes  0.750335\n",
       "6         Random Forest  0.742987\n",
       "7    Bagging Classifier  0.736886\n",
       "8           Extra Trees  0.729204\n",
       "9   K Nearest Neighbour  0.683017"
      ]
     },
     "execution_count": 56,
     "metadata": {},
     "output_type": "execute_result"
    }
   ],
   "source": [
    "results = pd.DataFrame({\n",
    "    'Model': ['Random Forest', 'K Nearest Neighbour', 'Logistic Regression',  \n",
    "              'Gradient Boosting', 'SVC', 'Extra Trees', 'AdaBoost', \n",
    "              'Gaussian Naive Bayes', 'Gaussian Process', 'Bagging Classifier'],\n",
    "    'AUC': scores})\n",
    "\n",
    "result_df = results.sort_values(by='AUC', ascending=False).reset_index(drop=True)\n",
    "result_df"
   ]
  },
  {
   "cell_type": "markdown",
   "metadata": {},
   "source": [
    "Có thể hình ảnh hóa kết quả ở trên: "
   ]
  },
  {
   "cell_type": "code",
   "execution_count": 43,
   "metadata": {},
   "outputs": [
    {
     "data": {
      "text/plain": [
       "(0, 0.85)"
      ]
     },
     "execution_count": 43,
     "metadata": {},
     "output_type": "execute_result"
    },
    {
     "data": {
      "image/png": "[encoded data removed]",
      "text/plain": [
       "<Figure size 720x360 with 1 Axes>"
      ]
     },
     "metadata": {},
     "output_type": "display_data"
    }
   ],
   "source": [
    "%matplotlib inline\n",
    "import numpy as np\n",
    "import matplotlib.pyplot as plt\n",
    "import seaborn as sns\n",
    "plt.style.use('fivethirtyeight')\n",
    "\n",
    "plt.figure(figsize=(10, 5))\n",
    "sns.barplot(x='AUC', y = 'Model', data = result_df, color = 'c')\n",
    "plt.title('Figure 1: AUC by Machine Learning Algorithm \\n')\n",
    "plt.xlabel('AUC')\n",
    "plt.ylabel('Algorithm')\n",
    "plt.xlim(0, 0.85)"
   ]
  },
  {
   "cell_type": "markdown",
   "metadata": {},
   "source": [
    "Kế tiếp tính toán FI cho các biến của 4 thuật toán thuộc nhóm Ensemble: "
   ]
  },
  {
   "cell_type": "code",
   "execution_count": 55,
   "metadata": {},
   "outputs": [],
   "source": [
    "feature_names = list(X)\n",
    "\n",
    "gbc_imp = pd.DataFrame({'Feature':feature_names, 'gbc importance':gbc.feature_importances_})\n",
    "ran_imp = pd.DataFrame({'Feature':feature_names, 'ran importance':ran.feature_importances_})\n",
    "ext_imp = pd.DataFrame({'Feature':feature_names, 'ext importance':ext.feature_importances_})\n",
    "ada_imp = pd.DataFrame({'Feature':feature_names, 'ada importance':ada.feature_importances_})\n",
    "\n",
    "# Tổng hợp các kết quả: \n",
    "importances = gbc_imp.merge(ran_imp, on='Feature').merge(ext_imp, on='Feature').merge(ada_imp, on='Feature')\n",
    "\n",
    "# Tính FI trung bình: \n",
    "importances['Average'] = importances.mean(axis=1)\n",
    "\n",
    "# Xếp hạng: \n",
    "importances = importances.sort_values(by='Average', ascending=False).reset_index(drop=True)"
   ]
  },
  {
   "cell_type": "markdown",
   "metadata": {},
   "source": [
    "Có thể hình ảnh hóa FI trung bình cho các biến: "
   ]
  },
  {
   "cell_type": "code",
   "execution_count": 46,
   "metadata": {},
   "outputs": [
    {
     "data": {
      "text/plain": [
       "(0, 0.19)"
      ]
     },
     "execution_count": 46,
     "metadata": {},
     "output_type": "execute_result"
    },
    {
     "data": {
      "image/png": "[encoded data removed]",
      "text/plain": [
       "<Figure size 648x648 with 1 Axes>"
      ]
     },
     "metadata": {},
     "output_type": "display_data"
    }
   ],
   "source": [
    "plt.figure(figsize=(9, 9))\n",
    "sns.barplot(x='Average', y = 'Feature', data = importances, color = 'c')\n",
    "plt.title('Figure 2: Average Feature Importance \\n')\n",
    "plt.xlabel('Average Importance')\n",
    "plt.ylabel('Feature')\n",
    "plt.xlim(0, 0.19)"
   ]
  },
  {
   "cell_type": "markdown",
   "metadata": {},
   "source": [
    "Loại bỏ các biến có FI trung bình nhỏ hơn 0.01 đồng thời chạy lại các mô hình: "
   ]
  },
  {
   "cell_type": "code",
   "execution_count": 50,
   "metadata": {},
   "outputs": [],
   "source": [
    "df_over001 = importances[importances.Average < 0.01]\n",
    "feature001 = df_over001[\"Feature\"]\n",
    "feature001 = list(feature001)\n",
    "\n",
    "my_df_binary = df_bank.drop([\"OBS#\"], axis=1) \n",
    "my_df_binary = my_df_binary.drop(feature001, axis=1)\n",
    "\n",
    "# Tách ra features và target: \n",
    "Y = my_df_binary[\"RESPONSE\"]\n",
    "X = my_df_binary.drop(\"RESPONSE\", 1)\n",
    "\n",
    "# Phân chia dữ liệu theo tỉ lệ 80 - 20: \n",
    "X_train, X_test, y_train, y_test = train_test_split(X, Y, test_size = 0.2, \n",
    "                                                    random_state = 29, stratify = Y)\n",
    "\n",
    "# Chuẩn hóa dữ liệu:  \n",
    "scaler = MinMaxScaler().fit(X_train) \n",
    "X_train = scaler.transform(X_train) \n",
    "X_test = scaler.transform(X_test)"
   ]
  },
  {
   "cell_type": "markdown",
   "metadata": {},
   "source": [
    "Chạy các mô hình ML như trên với bộ dữ liệu loại các biến có FI trung bình nhỏ hơn 0.01: "
   ]
  },
  {
   "cell_type": "code",
   "execution_count": 51,
   "metadata": {},
   "outputs": [
    {
     "name": "stderr",
     "output_type": "stream",
     "text": [
      "C:\\Users\\Zbook\\Anaconda3\\lib\\site-packages\\sklearn\\linear_model\\logistic.py:432: FutureWarning: Default solver will be changed to 'lbfgs' in 0.22. Specify a solver to silence this warning.\n",
      "  FutureWarning)\n",
      "C:\\Users\\Zbook\\Anaconda3\\lib\\site-packages\\sklearn\\linear_model\\logistic.py:432: FutureWarning: Default solver will be changed to 'lbfgs' in 0.22. Specify a solver to silence this warning.\n",
      "  FutureWarning)\n",
      "C:\\Users\\Zbook\\Anaconda3\\lib\\site-packages\\sklearn\\linear_model\\logistic.py:432: FutureWarning: Default solver will be changed to 'lbfgs' in 0.22. Specify a solver to silence this warning.\n",
      "  FutureWarning)\n",
      "C:\\Users\\Zbook\\Anaconda3\\lib\\site-packages\\sklearn\\linear_model\\logistic.py:432: FutureWarning: Default solver will be changed to 'lbfgs' in 0.22. Specify a solver to silence this warning.\n",
      "  FutureWarning)\n",
      "C:\\Users\\Zbook\\Anaconda3\\lib\\site-packages\\sklearn\\linear_model\\logistic.py:432: FutureWarning: Default solver will be changed to 'lbfgs' in 0.22. Specify a solver to silence this warning.\n",
      "  FutureWarning)\n",
      "C:\\Users\\Zbook\\Anaconda3\\lib\\site-packages\\sklearn\\linear_model\\logistic.py:432: FutureWarning: Default solver will be changed to 'lbfgs' in 0.22. Specify a solver to silence this warning.\n",
      "  FutureWarning)\n",
      "C:\\Users\\Zbook\\Anaconda3\\lib\\site-packages\\sklearn\\svm\\base.py:193: FutureWarning: The default value of gamma will change from 'auto' to 'scale' in version 0.22 to account better for unscaled features. Set gamma explicitly to 'auto' or 'scale' to avoid this warning.\n",
      "  \"avoid this warning.\", FutureWarning)\n",
      "C:\\Users\\Zbook\\Anaconda3\\lib\\site-packages\\sklearn\\svm\\base.py:193: FutureWarning: The default value of gamma will change from 'auto' to 'scale' in version 0.22 to account better for unscaled features. Set gamma explicitly to 'auto' or 'scale' to avoid this warning.\n",
      "  \"avoid this warning.\", FutureWarning)\n",
      "C:\\Users\\Zbook\\Anaconda3\\lib\\site-packages\\sklearn\\svm\\base.py:193: FutureWarning: The default value of gamma will change from 'auto' to 'scale' in version 0.22 to account better for unscaled features. Set gamma explicitly to 'auto' or 'scale' to avoid this warning.\n",
      "  \"avoid this warning.\", FutureWarning)\n",
      "C:\\Users\\Zbook\\Anaconda3\\lib\\site-packages\\sklearn\\svm\\base.py:193: FutureWarning: The default value of gamma will change from 'auto' to 'scale' in version 0.22 to account better for unscaled features. Set gamma explicitly to 'auto' or 'scale' to avoid this warning.\n",
      "  \"avoid this warning.\", FutureWarning)\n",
      "C:\\Users\\Zbook\\Anaconda3\\lib\\site-packages\\sklearn\\svm\\base.py:193: FutureWarning: The default value of gamma will change from 'auto' to 'scale' in version 0.22 to account better for unscaled features. Set gamma explicitly to 'auto' or 'scale' to avoid this warning.\n",
      "  \"avoid this warning.\", FutureWarning)\n",
      "C:\\Users\\Zbook\\Anaconda3\\lib\\site-packages\\sklearn\\svm\\base.py:193: FutureWarning: The default value of gamma will change from 'auto' to 'scale' in version 0.22 to account better for unscaled features. Set gamma explicitly to 'auto' or 'scale' to avoid this warning.\n",
      "  \"avoid this warning.\", FutureWarning)\n"
     ]
    }
   ],
   "source": [
    "scores_v2 = []\n",
    "\n",
    "for mod in models:\n",
    "    mod.fit(X_train, y_train)\n",
    "    acc = cross_val_score(mod, X_train, y_train, scoring = \"roc_auc\", cv = 5, verbose=0)\n",
    "    scores_v2.append(acc.mean())"
   ]
  },
  {
   "cell_type": "markdown",
   "metadata": {},
   "source": [
    "So sánh AUC của các mô hình ML cho hai kịch bản: (1) giữ nguyên số lượng features, và (2) bỏ các features có FI trung bình nhỏ hơn 0.01: "
   ]
  },
  {
   "cell_type": "code",
   "execution_count": 54,
   "metadata": {},
   "outputs": [
    {
     "data": {
      "text/html": [
       "<div>\n",
       "<style scoped>\n",
       "    .dataframe tbody tr th:only-of-type {\n",
       "        vertical-align: middle;\n",
       "    }\n",
       "\n",
       "    .dataframe tbody tr th {\n",
       "        vertical-align: top;\n",
       "    }\n",
       "\n",
       "    .dataframe thead th {\n",
       "        text-align: right;\n",
       "    }\n",
       "</style>\n",
       "<table border=\"1\" class=\"dataframe\">\n",
       "  <thead>\n",
       "    <tr style=\"text-align: right;\">\n",
       "      <th></th>\n",
       "      <th>Model</th>\n",
       "      <th>Original AUC</th>\n",
       "      <th>AUC with FE</th>\n",
       "      <th>Increase</th>\n",
       "    </tr>\n",
       "  </thead>\n",
       "  <tbody>\n",
       "    <tr>\n",
       "      <th>0</th>\n",
       "      <td>Logistic Regression</td>\n",
       "      <td>0.797433</td>\n",
       "      <td>0.800818</td>\n",
       "      <td>0.003385</td>\n",
       "    </tr>\n",
       "    <tr>\n",
       "      <th>1</th>\n",
       "      <td>Gradient Boosting</td>\n",
       "      <td>0.784710</td>\n",
       "      <td>0.789955</td>\n",
       "      <td>0.005246</td>\n",
       "    </tr>\n",
       "    <tr>\n",
       "      <th>2</th>\n",
       "      <td>SVC</td>\n",
       "      <td>0.784487</td>\n",
       "      <td>0.789695</td>\n",
       "      <td>0.005208</td>\n",
       "    </tr>\n",
       "    <tr>\n",
       "      <th>3</th>\n",
       "      <td>Gaussian Process</td>\n",
       "      <td>0.769122</td>\n",
       "      <td>0.784263</td>\n",
       "      <td>0.015141</td>\n",
       "    </tr>\n",
       "    <tr>\n",
       "      <th>4</th>\n",
       "      <td>Gaussian Naive Bayes</td>\n",
       "      <td>0.750335</td>\n",
       "      <td>0.764993</td>\n",
       "      <td>0.014658</td>\n",
       "    </tr>\n",
       "    <tr>\n",
       "      <th>5</th>\n",
       "      <td>AdaBoost</td>\n",
       "      <td>0.753441</td>\n",
       "      <td>0.760361</td>\n",
       "      <td>0.006920</td>\n",
       "    </tr>\n",
       "    <tr>\n",
       "      <th>6</th>\n",
       "      <td>Random Forest</td>\n",
       "      <td>0.742987</td>\n",
       "      <td>0.746689</td>\n",
       "      <td>0.003702</td>\n",
       "    </tr>\n",
       "    <tr>\n",
       "      <th>7</th>\n",
       "      <td>Bagging Classifier</td>\n",
       "      <td>0.736886</td>\n",
       "      <td>0.744234</td>\n",
       "      <td>0.007347</td>\n",
       "    </tr>\n",
       "    <tr>\n",
       "      <th>8</th>\n",
       "      <td>Extra Trees</td>\n",
       "      <td>0.729204</td>\n",
       "      <td>0.726618</td>\n",
       "      <td>-0.002586</td>\n",
       "    </tr>\n",
       "    <tr>\n",
       "      <th>9</th>\n",
       "      <td>K Nearest Neighbour</td>\n",
       "      <td>0.683017</td>\n",
       "      <td>0.700614</td>\n",
       "      <td>0.017597</td>\n",
       "    </tr>\n",
       "  </tbody>\n",
       "</table>\n",
       "</div>"
      ],
      "text/plain": [
       "                  Model  Original AUC  AUC with FE  Increase\n",
       "0   Logistic Regression      0.797433     0.800818  0.003385\n",
       "1     Gradient Boosting      0.784710     0.789955  0.005246\n",
       "2                   SVC      0.784487     0.789695  0.005208\n",
       "3      Gaussian Process      0.769122     0.784263  0.015141\n",
       "4  Gaussian Naive Bayes      0.750335     0.764993  0.014658\n",
       "5              AdaBoost      0.753441     0.760361  0.006920\n",
       "6         Random Forest      0.742987     0.746689  0.003702\n",
       "7    Bagging Classifier      0.736886     0.744234  0.007347\n",
       "8           Extra Trees      0.729204     0.726618 -0.002586\n",
       "9   K Nearest Neighbour      0.683017     0.700614  0.017597"
      ]
     },
     "execution_count": 54,
     "metadata": {},
     "output_type": "execute_result"
    }
   ],
   "source": [
    "results = pd.DataFrame({\n",
    "    'Model': ['Random Forest', 'K Nearest Neighbour', 'Logistic Regression', \n",
    "              'Gradient Boosting', 'SVC', 'Extra Trees', 'AdaBoost', \n",
    "              'Gaussian Naive Bayes', 'Gaussian Process', 'Bagging Classifier'],\n",
    "    'Original AUC': scores,\n",
    "    'AUC with FE': scores_v2})\n",
    "\n",
    "result_df = results.sort_values(by='AUC with FE', ascending=False).reset_index(drop=True)\n",
    "result_df['Increase'] = result_df['AUC with FE'] - result_df['Original AUC']\n",
    "result_df"
   ]
  },
  {
   "cell_type": "markdown",
   "metadata": {},
   "source": [
    "Như vậy bằng cách bỏ các biến có FI thấp chúng ta có thể tăng ROC/AUC cho 9 trong tổng số 10 mô hình ML với các mức độ gia tăng khác nhau (trừ Extra Trees). "
   ]
  },
  {
   "cell_type": "markdown",
   "metadata": {},
   "source": [
    "# 4.6 Tóm tắt chương\n",
    "\n",
    "Chương này chỉ ra tác động của FE lên chất lượng phân loại - dự báo của các mô hình ML và sử dụng FE như là một \"kĩ thuật\" nâng cao chất lượng phân loại - dự báo. Để minh họa thì kĩ thuật chuẩn hóa 0-1 được lựa chọn với các mô hình KNN và SVM. Chương này cũng trình bày khía cạnh thực hành của việc kết hợp tinh chỉnh tham số theo cách tiếp cận Grid Search và FE. Chúng ta có thể áp dụng FE hoàn toàn tương tự cho: (1) các mô hình ML khác, (2) các kĩ thuật FE khác, và (3) kết hợp nhiều kĩ thuật FE cho cùng một thuật toán ML. \n",
    "\n",
    "Còn nhiều khía cạnh tinh vi hơn của FE áp dụng cho các mô hình ML nhưng trong phạm vi là một textbook cơ bản thì những điều này khó có thể trình bày trong chương. Bạn đọc quan tâm có thể tìm đến các tài liệu khác về chủ đề này. \n",
    "\n",
    "# Tài liệu tham khảo\n",
    "\n",
    "1. James, G., Witten, D., Hastie, T., & Tibshirani, R. (2013). An introduction to statistical learning. New York: Springer.\n",
    "2. Kuhn, M., & Johnson, K. (2013). Applied predictive modeling. New York: Springer.\n",
    "3. Müller, A. C., & Guido, S. (2016). Introduction to machine learning with Python: a guide for data scientists. O'Reilly Media, Inc.\n",
    "4. Géron, A. (2019). Hands-on machine learning with Scikit-Learn and TensorFlow: Concepts, tools, and techniques to build intelligent systems. O'Reilly Media, Inc.\n",
    "5. Shmueli, G., Bruce, P. C., Yahav, I., Patel, N. R., & Lichtendahl Jr, K. C. (2017). Data mining for business analytics: concepts, techniques, and applications in R. John Wiley & Sons. "
   ]
  }
 ],
 "metadata": {
  "kernelspec": {
   "display_name": "Python 3",
   "language": "python",
   "name": "python3"
  },
  "language_info": {
   "codemirror_mode": {
    "name": "ipython",
    "version": 3
   },
   "file_extension": ".py",
   "mimetype": "text/x-python",
   "name": "python",
   "nbconvert_exporter": "python",
   "pygments_lexer": "ipython3",
   "version": "3.7.3"
  }
 },
 "nbformat": 4,
 "nbformat_minor": 4
}
